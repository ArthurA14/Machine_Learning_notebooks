{
 "cells": [
  {
   "cell_type": "code",
   "execution_count": 1,
   "metadata": {},
   "outputs": [],
   "source": [
    "import numpy as np\n",
    "from sklearn.datasets import make_regression\n",
    "import matplotlib.pyplot as plt"
   ]
  },
  {
   "cell_type": "markdown",
   "metadata": {},
   "source": [
    "### 1. Dataset & theta"
   ]
  },
  {
   "cell_type": "code",
   "execution_count": 2,
   "metadata": {},
   "outputs": [
    {
     "data": {
      "text/plain": [
       "<matplotlib.collections.PathCollection at 0x1ae9d08fe50>"
      ]
     },
     "execution_count": 2,
     "metadata": {},
     "output_type": "execute_result"
    },
    {
     "data": {
      "image/png": "[encoded data removed]",
      "text/plain": [
       "<Figure size 432x288 with 1 Axes>"
      ]
     },
     "metadata": {
      "needs_background": "light"
     },
     "output_type": "display_data"
    }
   ],
   "source": [
    "np.random.seed(0) # Pour maitriser l’aléatoire\n",
    "x, y = make_regression(n_samples=100, n_features=1, noise=10)\n",
    "plt.scatter(x, y)"
   ]
  },
  {
   "cell_type": "code",
   "execution_count": 3,
   "metadata": {},
   "outputs": [
    {
     "name": "stdout",
     "output_type": "stream",
     "text": [
      "(100, 1)\n",
      "(100, 1)\n"
     ]
    }
   ],
   "source": [
    "# Vérification des dimensions de nos matrices\n",
    "print(x.shape)\n",
    "y = y.reshape(y.shape[0], 1)\n",
    "print(y.shape)"
   ]
  },
  {
   "cell_type": "code",
   "execution_count": 4,
   "metadata": {},
   "outputs": [
    {
     "name": "stdout",
     "output_type": "stream",
     "text": [
      "(100, 2)\n",
      "[[-0.35955316  1.        ]\n",
      " [ 0.97663904  1.        ]\n",
      " [ 0.40234164  1.        ]\n",
      " [-0.81314628  1.        ]\n",
      " [-0.88778575  1.        ]\n",
      " [ 0.44386323  1.        ]\n",
      " [-0.97727788  1.        ]\n",
      " [ 0.42833187  1.        ]\n",
      " [ 0.20827498  1.        ]\n",
      " [-0.31155253  1.        ]\n",
      " [-0.51080514  1.        ]\n",
      " [ 0.12691209  1.        ]\n",
      " [-1.53624369  1.        ]\n",
      " [-0.40178094  1.        ]\n",
      " [ 0.6536186   1.        ]\n",
      " [ 1.17877957  1.        ]\n",
      " [-0.17992484  1.        ]\n",
      " [ 1.78587049  1.        ]\n",
      " [ 1.45427351  1.        ]\n",
      " [-0.68481009  1.        ]\n",
      " [ 0.97873798  1.        ]\n",
      " [ 1.89588918  1.        ]\n",
      " [-0.4380743   1.        ]\n",
      " [ 0.3130677   1.        ]\n",
      " [ 0.76103773  1.        ]\n",
      " [ 0.77749036  1.        ]\n",
      " [ 1.9507754   1.        ]\n",
      " [ 0.33367433  1.        ]\n",
      " [-0.34791215  1.        ]\n",
      " [ 1.53277921  1.        ]\n",
      " [-0.89546656  1.        ]\n",
      " [-0.57884966  1.        ]\n",
      " [-1.04855297  1.        ]\n",
      " [ 0.37816252  1.        ]\n",
      " [ 0.01050002  1.        ]\n",
      " [ 0.46278226  1.        ]\n",
      " [ 0.14404357  1.        ]\n",
      " [-0.40317695  1.        ]\n",
      " [ 0.0519454   1.        ]\n",
      " [-1.25279536  1.        ]\n",
      " [ 1.05445173  1.        ]\n",
      " [ 0.40015721  1.        ]\n",
      " [-1.70627019  1.        ]\n",
      " [ 2.2408932   1.        ]\n",
      " [ 0.17742614  1.        ]\n",
      " [-0.20515826  1.        ]\n",
      " [ 1.23029068  1.        ]\n",
      " [-0.85409574  1.        ]\n",
      " [ 1.76405235  1.        ]\n",
      " [ 0.4105985   1.        ]\n",
      " [-0.90729836  1.        ]\n",
      " [-1.42001794  1.        ]\n",
      " [ 0.46566244  1.        ]\n",
      " [ 0.90082649  1.        ]\n",
      " [ 1.13940068  1.        ]\n",
      " [ 0.40198936  1.        ]\n",
      " [ 0.3869025   1.        ]\n",
      " [-1.7262826   1.        ]\n",
      " [ 1.46935877  1.        ]\n",
      " [-0.18718385  1.        ]\n",
      " [-0.87079715  1.        ]\n",
      " [ 0.3024719   1.        ]\n",
      " [ 1.20237985  1.        ]\n",
      " [-1.98079647  1.        ]\n",
      " [-2.55298982  1.        ]\n",
      " [-1.45436567  1.        ]\n",
      " [-0.02818223  1.        ]\n",
      " [ 0.15494743  1.        ]\n",
      " [ 1.22244507  1.        ]\n",
      " [ 1.86755799  1.        ]\n",
      " [ 2.26975462  1.        ]\n",
      " [-0.74216502  1.        ]\n",
      " [ 0.06651722  1.        ]\n",
      " [ 1.49407907  1.        ]\n",
      " [-0.67246045  1.        ]\n",
      " [-1.63019835  1.        ]\n",
      " [ 0.12898291  1.        ]\n",
      " [ 0.95008842  1.        ]\n",
      " [ 1.48825219  1.        ]\n",
      " [ 0.05616534  1.        ]\n",
      " [ 0.8644362   1.        ]\n",
      " [ 0.70657317  1.        ]\n",
      " [-0.15135721  1.        ]\n",
      " [-1.07075262  1.        ]\n",
      " [-0.10321885  1.        ]\n",
      " [-0.30230275  1.        ]\n",
      " [-0.38732682  1.        ]\n",
      " [ 0.72909056  1.        ]\n",
      " [ 0.12167502  1.        ]\n",
      " [-0.50965218  1.        ]\n",
      " [-1.23482582  1.        ]\n",
      " [-0.21274028  1.        ]\n",
      " [-0.63432209  1.        ]\n",
      " [ 0.15634897  1.        ]\n",
      " [ 0.04575852  1.        ]\n",
      " [-1.16514984  1.        ]\n",
      " [-0.36274117  1.        ]\n",
      " [ 0.3563664   1.        ]\n",
      " [-1.61389785  1.        ]\n",
      " [-1.18063218  1.        ]]\n"
     ]
    }
   ],
   "source": [
    "# Colonne de \"biais\" (colonne de \"1\")\n",
    "# matrice X\n",
    "X = np.hstack((x, np.ones(x.shape))) # permet de coller ensemble deux vecteurs numpy l'un à côté de l'autre\n",
    "## vecteur de 1 qui a autant de lignes que x, \n",
    "print(X.shape)\n",
    "print(X)"
   ]
  },
  {
   "cell_type": "code",
   "execution_count": 5,
   "metadata": {},
   "outputs": [
    {
     "data": {
      "text/plain": [
       "array([[-0.63743703],\n",
       "       [-0.39727181]])"
      ]
     },
     "execution_count": 5,
     "metadata": {},
     "output_type": "execute_result"
    }
   ],
   "source": [
    "# On doit quand même initialiser theta avec des paramètres aléatoires \n",
    "theta = np.random.randn(2, 1) # dimensions du vecteur theta\n",
    "theta.shape # (2, 1)\n",
    "theta"
   ]
  },
  {
   "cell_type": "markdown",
   "metadata": {},
   "source": [
    "### 2. Modèle"
   ]
  },
  {
   "cell_type": "code",
   "execution_count": 6,
   "metadata": {},
   "outputs": [],
   "source": [
    "# F = X.theta\n",
    "def model(X, theta): \n",
    "    return X.dot(theta)"
   ]
  },
  {
   "cell_type": "code",
   "execution_count": 7,
   "metadata": {},
   "outputs": [
    {
     "data": {
      "text/plain": [
       "array([[-0.16807932],\n",
       "       [-1.0198177 ],\n",
       "       [-0.65373927],\n",
       "       [ 0.12105773],\n",
       "       [ 0.16863569],\n",
       "       [-0.68020667],\n",
       "       [ 0.22568129],\n",
       "       [-0.67030641],\n",
       "       [-0.530034  ],\n",
       "       [-0.19867669],\n",
       "       [-0.07166571],\n",
       "       [-0.47817028],\n",
       "       [ 0.58198679],\n",
       "       [-0.14116177],\n",
       "       [-0.81391251],\n",
       "       [-1.14866956],\n",
       "       [-0.28258106],\n",
       "       [-1.53565179],\n",
       "       [-1.32427959],\n",
       "       [ 0.03925149],\n",
       "       [-1.02115564],\n",
       "       [-1.60578177],\n",
       "       [-0.11802703],\n",
       "       [-0.59683276],\n",
       "       [-0.88238544],\n",
       "       [-0.89287295],\n",
       "       [-1.64076828],\n",
       "       [-0.60996819],\n",
       "       [-0.17549973],\n",
       "       [-1.37432204],\n",
       "       [ 0.17353173],\n",
       "       [-0.02829161],\n",
       "       [ 0.27111467],\n",
       "       [-0.63832661],\n",
       "       [-0.40396492],\n",
       "       [-0.69226636],\n",
       "       [-0.48909052],\n",
       "       [-0.1402719 ],\n",
       "       [-0.43038373],\n",
       "       [ 0.40130633],\n",
       "       [-1.06941839],\n",
       "       [-0.65234683],\n",
       "       [ 0.69036798],\n",
       "       [-1.82570011],\n",
       "       [-0.51036981],\n",
       "       [-0.26649634],\n",
       "       [-1.18150465],\n",
       "       [ 0.14716043],\n",
       "       [-1.52174409],\n",
       "       [-0.6590025 ],\n",
       "       [ 0.18107376],\n",
       "       [ 0.5079002 ],\n",
       "       [-0.69410229],\n",
       "       [-0.97149197],\n",
       "       [-1.123568  ],\n",
       "       [-0.65351472],\n",
       "       [-0.64389779],\n",
       "       [ 0.70312463],\n",
       "       [-1.3338955 ],\n",
       "       [-0.2779539 ],\n",
       "       [ 0.15780653],\n",
       "       [-0.5900786 ],\n",
       "       [-1.16371325],\n",
       "       [ 0.86536119],\n",
       "       [ 1.23009842],\n",
       "       [ 0.52979472],\n",
       "       [-0.37930742],\n",
       "       [-0.49604104],\n",
       "       [-1.17650356],\n",
       "       [-1.58772242],\n",
       "       [-1.84409745],\n",
       "       [ 0.07581165],\n",
       "       [-0.43967235],\n",
       "       [-1.34965313],\n",
       "       [ 0.03137937],\n",
       "       [ 0.64187697],\n",
       "       [-0.4794903 ],\n",
       "       [-1.00289335],\n",
       "       [-1.34593887],\n",
       "       [-0.43307368],\n",
       "       [-0.94829545],\n",
       "       [-0.84766771],\n",
       "       [-0.30079113],\n",
       "       [ 0.28526555],\n",
       "       [-0.3314763 ],\n",
       "       [-0.20457285],\n",
       "       [-0.15037536],\n",
       "       [-0.86202113],\n",
       "       [-0.47483197],\n",
       "       [-0.07240064],\n",
       "       [ 0.38985188],\n",
       "       [-0.26166328],\n",
       "       [ 0.00706857],\n",
       "       [-0.49693444],\n",
       "       [-0.42643999],\n",
       "       [ 0.34543783],\n",
       "       [-0.16604716],\n",
       "       [-0.62443295],\n",
       "       [ 0.63148643],\n",
       "       [ 0.35530685]])"
      ]
     },
     "execution_count": 7,
     "metadata": {},
     "output_type": "execute_result"
    }
   ],
   "source": [
    "model(X, theta)"
   ]
  },
  {
   "cell_type": "code",
   "execution_count": 8,
   "metadata": {},
   "outputs": [
    {
     "data": {
      "text/plain": [
       "[<matplotlib.lines.Line2D at 0x1ae9e1705e0>]"
      ]
     },
     "execution_count": 8,
     "metadata": {},
     "output_type": "execute_result"
    },
    {
     "data": {
      "image/png": "[encoded data removed]",
      "text/plain": [
       "<Figure size 432x288 with 1 Axes>"
      ]
     },
     "metadata": {
      "needs_background": "light"
     },
     "output_type": "display_data"
    }
   ],
   "source": [
    "plt.plot(x, model(X, theta))"
   ]
  },
  {
   "cell_type": "code",
   "execution_count": 9,
   "metadata": {},
   "outputs": [
    {
     "data": {
      "text/plain": [
       "[<matplotlib.lines.Line2D at 0x1ae9e1e2130>]"
      ]
     },
     "execution_count": 9,
     "metadata": {},
     "output_type": "execute_result"
    },
    {
     "data": {
      "image/png": "[encoded data removed]",
      "text/plain": [
       "<Figure size 432x288 with 1 Axes>"
      ]
     },
     "metadata": {
      "needs_background": "light"
     },
     "output_type": "display_data"
    }
   ],
   "source": [
    "plt.scatter(x, y)\n",
    "plt.plot(x, model(X, theta), c='r')"
   ]
  },
  {
   "cell_type": "markdown",
   "metadata": {},
   "source": [
    "### 3. Fonction coût (erreur quadratique moyenne)"
   ]
  },
  {
   "cell_type": "code",
   "execution_count": 10,
   "metadata": {},
   "outputs": [],
   "source": [
    "def cost_function(X, y, theta):\n",
    "    m = len(y)\n",
    "    return 1/(2*m) * np.sum((model(X, theta) - y)**2)   # np.power((model(X, theta) - y), 2)"
   ]
  },
  {
   "cell_type": "code",
   "execution_count": 11,
   "metadata": {},
   "outputs": [
    {
     "data": {
      "text/plain": [
       "1009.8259477174702"
      ]
     },
     "execution_count": 11,
     "metadata": {},
     "output_type": "execute_result"
    }
   ],
   "source": [
    "cost_function(X, y, theta)"
   ]
  },
  {
   "cell_type": "markdown",
   "metadata": {},
   "source": [
    "### 4. Gradient et Descente de Gradient"
   ]
  },
  {
   "cell_type": "code",
   "execution_count": 12,
   "metadata": {},
   "outputs": [],
   "source": [
    "def grad(X, y, theta):\n",
    "    m = len(y)\n",
    "    return 1/m * X.T.dot(model(X, theta) - y)"
   ]
  },
  {
   "cell_type": "code",
   "execution_count": 13,
   "metadata": {},
   "outputs": [],
   "source": [
    "def gradient_descent(X, y, theta, learning_rate, n_iterations):\n",
    "\n",
    "    for i in range(0, n_iterations):\n",
    "        theta = theta - learning_rate * grad(X, y, theta)\n",
    "        \n",
    "    return theta"
   ]
  },
  {
   "cell_type": "code",
   "execution_count": 14,
   "metadata": {},
   "outputs": [],
   "source": [
    "def gradient_descent(X, y, theta, learning_rate, n_iterations):\n",
    "    cost_history = np.zeros(n_iterations) # tableau de zéros\n",
    "    for i in range(0, n_iterations):\n",
    "        theta = theta - learning_rate * grad(X, y, theta)\n",
    "        cost_history[i] = cost_function(X, y, theta) # on enregistre le coût de notre modèle pour chaue itération\n",
    "    return theta, cost_history"
   ]
  },
  {
   "cell_type": "markdown",
   "metadata": {},
   "source": [
    "### 5. Machine Learning (Train)"
   ]
  },
  {
   "cell_type": "code",
   "execution_count": 15,
   "metadata": {},
   "outputs": [],
   "source": [
    "theta_final = gradient_descent(X, y, theta, learning_rate=0.01, n_iterations=1000)"
   ]
  },
  {
   "cell_type": "code",
   "execution_count": 16,
   "metadata": {},
   "outputs": [],
   "source": [
    "theta_final, cost_history = gradient_descent(X, y, theta, learning_rate=0.01, n_iterations=1000)"
   ]
  },
  {
   "cell_type": "code",
   "execution_count": 17,
   "metadata": {},
   "outputs": [
    {
     "data": {
      "text/plain": [
       "array([[42.61757635],\n",
       "       [-0.81307283]])"
      ]
     },
     "execution_count": 17,
     "metadata": {},
     "output_type": "execute_result"
    }
   ],
   "source": [
    "theta_final"
   ]
  },
  {
   "cell_type": "markdown",
   "metadata": {},
   "source": [
    "### 7. (Utilisation / Prédictions de notre modèle)"
   ]
  },
  {
   "cell_type": "code",
   "execution_count": 18,
   "metadata": {},
   "outputs": [
    {
     "data": {
      "text/plain": [
       "[<matplotlib.lines.Line2D at 0x1ae9e24b040>]"
      ]
     },
     "execution_count": 18,
     "metadata": {},
     "output_type": "execute_result"
    },
    {
     "data": {
      "image/png": "[encoded data removed]",
      "text/plain": [
       "<Figure size 432x288 with 1 Axes>"
      ]
     },
     "metadata": {
      "needs_background": "light"
     },
     "output_type": "display_data"
    }
   ],
   "source": [
    "predictions = model(X, theta_final)\n",
    "plt.scatter(x, y)\n",
    "plt.plot(x, predictions, c='r')"
   ]
  },
  {
   "cell_type": "markdown",
   "metadata": {},
   "source": [
    "### 6. Courbe d'apprentissage"
   ]
  },
  {
   "cell_type": "code",
   "execution_count": 19,
   "metadata": {},
   "outputs": [
    {
     "data": {
      "text/plain": [
       "[<matplotlib.lines.Line2D at 0x1ae9e2a48b0>]"
      ]
     },
     "execution_count": 19,
     "metadata": {},
     "output_type": "execute_result"
    },
    {
     "data": {
      "image/png": "[encoded data removed]",
      "text/plain": [
       "<Figure size 432x288 with 1 Axes>"
      ]
     },
     "metadata": {
      "needs_background": "light"
     },
     "output_type": "display_data"
    }
   ],
   "source": [
    "plt.plot(range(1000), cost_history) # range(1000) = 1000 itérations de notre descente de gradient"
   ]
  },
  {
   "cell_type": "markdown",
   "metadata": {},
   "source": [
    "Evaluation finale"
   ]
  },
  {
   "cell_type": "code",
   "execution_count": 20,
   "metadata": {},
   "outputs": [],
   "source": [
    "def coef_determination(y, pred):\n",
    "    u = ((y - pred)**2).sum()\n",
    "    v = ((y - y.mean())**2).sum()\n",
    "    return 1 - u/v"
   ]
  },
  {
   "cell_type": "code",
   "execution_count": 21,
   "metadata": {},
   "outputs": [
    {
     "data": {
      "text/plain": [
       "0.9417294704806692"
      ]
     },
     "execution_count": 21,
     "metadata": {},
     "output_type": "execute_result"
    }
   ],
   "source": [
    "coef_determination(y, predictions)"
   ]
  }
 ],
 "metadata": {
  "interpreter": {
   "hash": "1f581d018a546ff485bbe9afc04fe925a6dbac1faa56a245c7e60b68a5d49f26"
  },
  "kernelspec": {
   "display_name": "Python 3.9.5 64-bit",
   "language": "python",
   "name": "python3"
  },
  "language_info": {
   "codemirror_mode": {
    "name": "ipython",
    "version": 3
   },
   "file_extension": ".py",
   "mimetype": "text/x-python",
   "name": "python",
   "nbconvert_exporter": "python",
   "pygments_lexer": "ipython3",
   "version": "3.9.5"
  },
  "orig_nbformat": 4
 },
 "nbformat": 4,
 "nbformat_minor": 2
}
